{
 "cells": [
  {
   "cell_type": "code",
   "execution_count": 1,
   "metadata": {
    "colab": {
     "base_uri": "https://localhost:8080/"
    },
    "id": "-WefZa5r6m7y",
    "outputId": "fe16fb61-c363-4f7a-8ba7-f7f7877263ee"
   },
   "outputs": [
    {
     "name": "stdout",
     "output_type": "stream",
     "text": [
      "Once deleted, variables cannot be recovered. Proceed (y/[n])? y\n"
     ]
    }
   ],
   "source": [
    "%reset"
   ]
  },
  {
   "cell_type": "code",
   "execution_count": 1,
   "metadata": {
    "colab": {
     "base_uri": "https://localhost:8080/",
     "height": 206
    },
    "id": "Ys39rIb2W3Z2",
    "outputId": "4b504d74-8dd6-403d-b7ae-011cd4370faa"
   },
   "outputs": [
    {
     "data": {
      "text/html": [
       "<div>\n",
       "<style scoped>\n",
       "    .dataframe tbody tr th:only-of-type {\n",
       "        vertical-align: middle;\n",
       "    }\n",
       "\n",
       "    .dataframe tbody tr th {\n",
       "        vertical-align: top;\n",
       "    }\n",
       "\n",
       "    .dataframe thead th {\n",
       "        text-align: right;\n",
       "    }\n",
       "</style>\n",
       "<table border=\"1\" class=\"dataframe\">\n",
       "  <thead>\n",
       "    <tr style=\"text-align: right;\">\n",
       "      <th></th>\n",
       "      <th>C</th>\n",
       "      <th>n</th>\n",
       "      <th>M</th>\n",
       "    </tr>\n",
       "  </thead>\n",
       "  <tbody>\n",
       "    <tr>\n",
       "      <th>0</th>\n",
       "      <td>159.00</td>\n",
       "      <td>2</td>\n",
       "      <td>259.00</td>\n",
       "    </tr>\n",
       "    <tr>\n",
       "      <th>1</th>\n",
       "      <td>129.00</td>\n",
       "      <td>45</td>\n",
       "      <td>174.00</td>\n",
       "    </tr>\n",
       "    <tr>\n",
       "      <th>2</th>\n",
       "      <td>115.31</td>\n",
       "      <td>21</td>\n",
       "      <td>154.00</td>\n",
       "    </tr>\n",
       "    <tr>\n",
       "      <th>3</th>\n",
       "      <td>111.25</td>\n",
       "      <td>5</td>\n",
       "      <td>111.25</td>\n",
       "    </tr>\n",
       "    <tr>\n",
       "      <th>4</th>\n",
       "      <td>111.69</td>\n",
       "      <td>7</td>\n",
       "      <td>111.69</td>\n",
       "    </tr>\n",
       "  </tbody>\n",
       "</table>\n",
       "</div>"
      ],
      "text/plain": [
       "        C   n       M\n",
       "0  159.00   2  259.00\n",
       "1  129.00  45  174.00\n",
       "2  115.31  21  154.00\n",
       "3  111.25   5  111.25\n",
       "4  111.69   7  111.69"
      ]
     },
     "execution_count": 1,
     "metadata": {},
     "output_type": "execute_result"
    }
   ],
   "source": [
    "import pandas as pd\n",
    "data = pd.read_excel(\"Sample_data.xlsx\")\n",
    "data.head()"
   ]
  },
  {
   "cell_type": "code",
   "execution_count": 3,
   "metadata": {
    "colab": {
     "base_uri": "https://localhost:8080/"
    },
    "id": "20P17XWOJW12",
    "outputId": "79c2a4ae-bf42-4e90-d77e-b1ffe728fabb"
   },
   "outputs": [
    {
     "name": "stderr",
     "output_type": "stream",
     "text": [
      "C:\\Users\\Esysss\\AppData\\Local\\Programs\\Python\\Python310\\lib\\site-packages\\pulp\\pulp.py:1316: UserWarning: Spaces are not permitted in the name. Converted to '_'\n",
      "  warnings.warn(\"Spaces are not permitted in the name. Converted to '_'\")\n"
     ]
    },
    {
     "name": "stdout",
     "output_type": "stream",
     "text": [
      "Status: Infeasible\n",
      "Optimal Allocation:\n",
      "Index = 0, C = 159.0, M = 259.0, R = 159.0\n",
      "Index = 1, C = 129.0, M = 174.0, R = 129.0\n",
      "Index = 2, C = 115.31, M = 154.0, R = 115.31\n",
      "Index = 3, C = 111.25, M = 111.25, R = 111.25\n",
      "Index = 4, C = 111.69, M = 111.69, R = 111.69\n",
      "Index = 5, C = 112.0, M = 115.0, R = 112.0\n",
      "Index = 6, C = 180.45, M = 220.0, R = 180.45\n",
      "Index = 7, C = 151.16, M = 220.0, R = 151.16\n",
      "Index = 8, C = 134.23, M = 180.0, R = 134.23\n",
      "Index = 9, C = 129.44, M = 180.0, R = 129.44\n",
      "Index = 10, C = 180.45, M = 220.0, R = 180.45\n",
      "Index = 11, C = 151.16, M = 220.0, R = 151.16\n",
      "Index = 12, C = 134.23, M = 180.0, R = 134.23\n",
      "Index = 13, C = 129.44, M = 180.0, R = 129.44\n",
      "Index = 14, C = 166.99, M = 219.99, R = 166.99\n",
      "Index = 15, C = 166.99, M = 219.99, R = -17388.12\n",
      "Index = 16, C = 224.0, M = 289.0, R = 224.0\n",
      "Index = 17, C = 214.0, M = 289.0, R = 214.0\n",
      "Index = 18, C = 219.0, M = 289.0, R = 219.0\n",
      "Index = 19, C = 159.0, M = 214.0, R = 159.0\n",
      "Index = 20, C = 159.0, M = 214.0, R = 159.0\n",
      "Index = 21, C = 133.23, M = 204.0, R = 133.23\n",
      "Index = 22, C = 133.23, M = 204.0, R = 133.23\n",
      "Index = 23, C = 141.55, M = 208.0, R = 141.55\n",
      "Index = 24, C = 199.0, M = 299.0, R = 199.0\n",
      "Index = 25, C = 100.61, M = 137.0, R = 100.61\n",
      "Index = 26, C = 123.28, M = 179.0, R = 123.28\n",
      "Index = 27, C = 123.28, M = 179.0, R = 123.28\n",
      "Index = 28, C = 127.98, M = 179.0, R = 127.98\n",
      "Index = 29, C = 127.98, M = 179.0, R = 127.98\n",
      "Index = 30, C = 123.28, M = 179.0, R = 123.28\n",
      "Index = 31, C = 124.93, M = 179.0, R = 124.93\n",
      "Index = 32, C = 123.23, M = 123.23, R = 123.23\n",
      "Index = 33, C = 235.18, M = 339.0, R = 235.18\n",
      "Index = 34, C = 264.38, M = 339.0, R = 264.38\n",
      "Index = 35, C = 113.85, M = 162.0, R = 113.85\n",
      "Index = 36, C = 179.0, M = 247.0, R = 179.0\n",
      "Index = 37, C = 132.98, M = 204.0, R = 132.98\n",
      "Index = 38, C = 119.0, M = 119.0, R = 119.0\n",
      "Index = 39, C = 125.52, M = 125.52, R = 125.52\n",
      "Index = 40, C = 182.18, M = 244.0, R = 182.18\n",
      "Index = 41, C = 169.0, M = 244.0, R = 169.0\n",
      "Index = 42, C = 174.0, M = 244.0, R = 174.0\n",
      "Index = 43, C = 184.0, M = 244.0, R = 184.0\n",
      "Index = 44, C = 169.0, M = 239.0, R = 169.0\n",
      "Index = 45, C = 179.0, M = 239.0, R = 179.0\n",
      "Index = 46, C = 229.0, M = 299.0, R = 229.0\n",
      "Index = 47, C = 231.5, M = 299.0, R = 231.5\n",
      "Index = 48, C = 193.96, M = 193.96, R = 193.96\n",
      "Index = 49, C = 248.05, M = 349.0, R = 248.05\n",
      "Index = 50, C = 270.0, M = 349.0, R = 270.0\n",
      "Index = 51, C = 209.99, M = 315.0, R = 209.99\n",
      "Index = 52, C = 209.99, M = 315.0, R = 209.99\n",
      "Index = 53, C = 109.0, M = 129.0, R = 109.0\n",
      "Index = 54, C = 154.0, M = 209.0, R = 154.0\n",
      "Index = 55, C = 154.0, M = 209.0, R = 154.0\n",
      "Index = 56, C = 158.0, M = 178.0, R = 158.0\n",
      "Index = 57, C = 161.24, M = 178.0, R = 161.24\n",
      "Index = 58, C = 175.0, M = 224.0, R = 175.0\n",
      "Index = 59, C = 230.0, M = 309.0, R = 230.0\n",
      "Index = 60, C = 169.0, M = 259.0, R = 169.0\n",
      "Index = 61, C = 178.09, M = 249.0, R = 178.09\n",
      "Index = 62, C = 99.0, M = 144.0, R = 99.0\n",
      "Index = 63, C = 211.0, M = 359.0, R = 211.0\n",
      "Index = 64, C = 171.0, M = 259.0, R = 171.0\n",
      "Index = 65, C = 149.0, M = 224.0, R = 149.0\n",
      "Index = 66, C = 144.0, M = 224.0, R = 144.0\n",
      "Index = 67, C = 169.0, M = 259.0, R = 169.0\n",
      "Index = 68, C = 169.0, M = 259.0, R = 169.0\n",
      "Index = 69, C = 149.0, M = 224.0, R = 149.0\n",
      "Index = 70, C = 149.0, M = 224.0, R = 149.0\n",
      "Index = 71, C = 169.49, M = 229.99, R = 169.49\n",
      "Index = 72, C = 189.49, M = 239.49, R = 189.49\n",
      "Index = 73, C = 204.0, M = 239.49, R = 204.0\n",
      "Index = 74, C = 189.49, M = 239.49, R = 189.49\n",
      "Index = 75, C = 185.88, M = 264.0, R = 185.88\n",
      "Index = 76, C = 173.22, M = 264.0, R = 173.22\n",
      "Index = 77, C = 173.22, M = 282.0, R = 173.22\n",
      "Index = 78, C = 476.5, M = 579.0, R = 476.5\n",
      "Index = 79, C = 222.16, M = 279.0, R = 222.16\n",
      "Index = 80, C = 222.16, M = 279.0, R = 222.16\n",
      "Index = 81, C = 579.0, M = 579.0, R = 579.0\n",
      "Index = 82, C = 295.0, M = 314.9, R = 295.0\n",
      "Index = 83, C = 220.71, M = 294.0, R = 220.71\n",
      "Index = 84, C = 177.86, M = 239.0, R = 177.86\n",
      "Index = 85, C = 148.95, M = 148.95, R = 148.95\n",
      "Index = 86, C = 151.05, M = 190.0, R = 151.05\n",
      "Index = 87, C = 306.87, M = 306.87, R = 306.87\n",
      "Index = 88, C = 292.37, M = 292.37, R = 292.37\n",
      "Index = 89, C = 229.64, M = 229.64, R = 229.64\n",
      "Index = 90, C = 150.09, M = 150.09, R = 150.09\n",
      "Index = 91, C = 136.14, M = 184.0, R = 136.14\n",
      "Index = 92, C = 139.0, M = 199.0, R = 139.0\n",
      "Index = 93, C = 109.73, M = 109.73, R = 109.73\n",
      "Index = 94, C = 143.19, M = 143.19, R = 143.19\n",
      "Index = 95, C = 136.28, M = 136.28, R = 136.28\n",
      "Index = 96, C = 146.9, M = 146.9, R = 146.9\n",
      "Index = 97, C = 235.0, M = 367.0, R = 235.0\n",
      "Index = 98, C = 235.44, M = 367.0, R = 235.44\n",
      "Index = 99, C = 179.0, M = 240.0, R = 179.0\n",
      "Total Objective Value: -1176192.370000001\n"
     ]
    }
   ],
   "source": [
    "import pulp\n",
    "\n",
    "samples = data.to_dict('index')\n",
    "\n",
    "# Define constants\n",
    "alpha = 200\n",
    "beta = 0.15\n",
    "\n",
    "# Create a LP problem\n",
    "problem = pulp.LpProblem(\"Maximize Marker Rate\", pulp.LpMaximize)\n",
    "\n",
    "# Define decision variables\n",
    "R = {sample: pulp.LpVariable(\"sample{}\".format(sample), lowBound=samples[sample]['C'], upBound=samples[sample]['M'], cat='Continuous') for sample in samples}\n",
    "\n",
    "problem += sum((R[sample] - samples[sample]['C']) * samples[sample]['n'] for sample in samples)\n",
    "\n",
    "# Add constraints\n",
    "for sample in samples:\n",
    "  problem += samples[sample]['M'] >= samples[sample]['C']  # M>=C\n",
    "  problem += sum(R.values()) <= alpha  # R <= \\alpha\n",
    "  problem += sum([(samples[sample]['M'] - R[sample]) / samples[sample]['M'] for sample in samples]) / len(samples) >= beta  # Maximum average deviation\n",
    "\n",
    "# Solve the problem\n",
    "problem.solve()\n",
    "\n",
    "\n",
    "# Print results\n",
    "print(\"Status:\", pulp.LpStatus[problem.status])\n",
    "\n",
    "print(\"Optimal Allocation:\")\n",
    "for i in samples:\n",
    "  print(\"Index = {}, C = {}, M = {}, R = {}\".format(i, samples[i]['C'], samples[i]['M'], R[i].varValue))\n",
    "\n",
    "print(\"Total Objective Value:\", pulp.value(problem.objective))"
   ]
  },
  {
   "cell_type": "code",
   "execution_count": 4,
   "metadata": {
    "id": "YU8DZ8bfKFGQ"
   },
   "outputs": [],
   "source": [
    "#Check variables\n",
    "def check(index, samples, r):\n",
    "  condition1 = samples[index][\"M\"] >= samples[index][\"C\"]\n",
    "  condition2 = samples[index][\"C\"] <= r <= samples[index][\"M\"]\n",
    "\n",
    "  return condition1 and condition2"
   ]
  },
  {
   "cell_type": "code",
   "execution_count": 5,
   "metadata": {
    "colab": {
     "base_uri": "https://localhost:8080/"
    },
    "id": "OYq-aVKXLBiF",
    "outputId": "a83aa8fb-6afa-45bb-ad76-ba9c1cb0957a"
   },
   "outputs": [
    {
     "name": "stdout",
     "output_type": "stream",
     "text": [
      "15\n"
     ]
    }
   ],
   "source": [
    "Results = [R[sample].varValue for sample in samples]\n",
    "problems = []\n",
    "for i, result in enumerate(Results):\n",
    "  if not check(i,samples,result):\n",
    "    print(i)\n",
    "    problems.append(i)"
   ]
  },
  {
   "cell_type": "code",
   "execution_count": 6,
   "metadata": {
    "colab": {
     "base_uri": "https://localhost:8080/"
    },
    "id": "m-auFDoXY5f2",
    "outputId": "1acddedc-ab26-4733-822f-c2839b0578a7"
   },
   "outputs": [
    {
     "name": "stdout",
     "output_type": "stream",
     "text": [
      "Index = 15, C = 166.99, M = 219.99, R = -17388.12\n"
     ]
    }
   ],
   "source": [
    "for i in problems:\n",
    "  print(\"Index = {}, C = {}, M = {}, R = {}\".format(i, samples[i]['C'], samples[i]['M'], Results[i]))"
   ]
  },
  {
   "cell_type": "code",
   "execution_count": 7,
   "metadata": {
    "id": "WeQxdIXJe2zH"
   },
   "outputs": [],
   "source": [
    "def objective(data, r, problems):\n",
    "    with_problems = 0\n",
    "    without_problems = 0\n",
    "    for index, row in data.iterrows():\n",
    "        with_problems += (r[index] - row[\"C\"]) * row['n']\n",
    "        if i not in problems:\n",
    "            without_problems += (r[index] - row[\"C\"]) * row['n']\n",
    "\n",
    "    return with_problems,without_problems"
   ]
  },
  {
   "cell_type": "code",
   "execution_count": 8,
   "metadata": {
    "colab": {
     "base_uri": "https://localhost:8080/"
    },
    "id": "tiIG9ncphrcy",
    "outputId": "35fd7384-4859-4f40-b317-fd74ba41f482"
   },
   "outputs": [
    {
     "data": {
      "text/plain": [
       "(-1176192.37, 0)"
      ]
     },
     "execution_count": 8,
     "metadata": {},
     "output_type": "execute_result"
    }
   ],
   "source": [
    "objective(data,Results,problems)"
   ]
  },
  {
   "cell_type": "code",
   "execution_count": 9,
   "metadata": {
    "id": "jFFuOPMJ73SV"
   },
   "outputs": [
    {
     "name": "stdout",
     "output_type": "stream",
     "text": [
      "['PULP_CBC_CMD']\n"
     ]
    }
   ],
   "source": [
    "solver_list = pulp.listSolvers(onlyAvailable=True)\n",
    "print(solver_list)"
   ]
  },
  {
   "cell_type": "code",
   "execution_count": null,
   "metadata": {},
   "outputs": [],
   "source": []
  }
 ],
 "metadata": {
  "colab": {
   "provenance": []
  },
  "kernelspec": {
   "display_name": "Python 3 (ipykernel)",
   "language": "python",
   "name": "python3"
  },
  "language_info": {
   "codemirror_mode": {
    "name": "ipython",
    "version": 3
   },
   "file_extension": ".py",
   "mimetype": "text/x-python",
   "name": "python",
   "nbconvert_exporter": "python",
   "pygments_lexer": "ipython3",
   "version": "3.10.0"
  }
 },
 "nbformat": 4,
 "nbformat_minor": 4
}
