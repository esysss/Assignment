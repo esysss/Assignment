{
 "cells": [
  {
   "cell_type": "code",
   "execution_count": 4,
   "id": "b66fa581-eafe-4919-b5d3-4469d3004f1c",
   "metadata": {},
   "outputs": [],
   "source": [
    "import pandas as pd\n",
    "import random"
   ]
  },
  {
   "cell_type": "code",
   "execution_count": 5,
   "id": "f247fb48-540c-465e-8246-78b905ef377d",
   "metadata": {},
   "outputs": [
    {
     "data": {
      "text/html": [
       "<div>\n",
       "<style scoped>\n",
       "    .dataframe tbody tr th:only-of-type {\n",
       "        vertical-align: middle;\n",
       "    }\n",
       "\n",
       "    .dataframe tbody tr th {\n",
       "        vertical-align: top;\n",
       "    }\n",
       "\n",
       "    .dataframe thead th {\n",
       "        text-align: right;\n",
       "    }\n",
       "</style>\n",
       "<table border=\"1\" class=\"dataframe\">\n",
       "  <thead>\n",
       "    <tr style=\"text-align: right;\">\n",
       "      <th></th>\n",
       "      <th>C</th>\n",
       "      <th>n</th>\n",
       "      <th>M</th>\n",
       "    </tr>\n",
       "  </thead>\n",
       "  <tbody>\n",
       "    <tr>\n",
       "      <th>0</th>\n",
       "      <td>159.00</td>\n",
       "      <td>2</td>\n",
       "      <td>259.00</td>\n",
       "    </tr>\n",
       "    <tr>\n",
       "      <th>1</th>\n",
       "      <td>129.00</td>\n",
       "      <td>45</td>\n",
       "      <td>174.00</td>\n",
       "    </tr>\n",
       "    <tr>\n",
       "      <th>2</th>\n",
       "      <td>115.31</td>\n",
       "      <td>21</td>\n",
       "      <td>154.00</td>\n",
       "    </tr>\n",
       "    <tr>\n",
       "      <th>3</th>\n",
       "      <td>111.25</td>\n",
       "      <td>5</td>\n",
       "      <td>111.25</td>\n",
       "    </tr>\n",
       "    <tr>\n",
       "      <th>4</th>\n",
       "      <td>111.69</td>\n",
       "      <td>7</td>\n",
       "      <td>111.69</td>\n",
       "    </tr>\n",
       "  </tbody>\n",
       "</table>\n",
       "</div>"
      ],
      "text/plain": [
       "        C   n       M\n",
       "0  159.00   2  259.00\n",
       "1  129.00  45  174.00\n",
       "2  115.31  21  154.00\n",
       "3  111.25   5  111.25\n",
       "4  111.69   7  111.69"
      ]
     },
     "execution_count": 5,
     "metadata": {},
     "output_type": "execute_result"
    }
   ],
   "source": [
    "data = pd.read_excel(\"Sample_data.xlsx\")\n",
    "data.head()"
   ]
  },
  {
   "cell_type": "markdown",
   "id": "efb4bc21-5b45-4cb6-8370-d6d38f62aebc",
   "metadata": {},
   "source": [
    "# Test 1"
   ]
  },
  {
   "cell_type": "code",
   "execution_count": 6,
   "id": "1d3cfe39-36d6-4515-866f-0e2dacb69ecb",
   "metadata": {},
   "outputs": [],
   "source": [
    "R = []\n",
    "for index, row in data.iterrows():\n",
    "    temp_R = random.uniform(row['C'],row['M'])\n",
    "    R.append(temp_R)"
   ]
  },
  {
   "cell_type": "code",
   "execution_count": 19,
   "id": "18013925-2097-4598-9e4c-3e8e2f565576",
   "metadata": {},
   "outputs": [],
   "source": [
    "def objective(data, r, problems):\n",
    "    with_problems = 0\n",
    "    without_problems = 0\n",
    "    for index, row in data.iterrows():\n",
    "        with_problems += (r[index] - row[\"C\"]) * row['n']\n",
    "        if i not in problems:\n",
    "            without_problems += (r[index] - row[\"C\"]) * row['n']\n",
    "  \n",
    "    return with_problems,without_problems"
   ]
  },
  {
   "cell_type": "code",
   "execution_count": 17,
   "id": "4ceb306b-3d7e-4c59-9a8a-0dc7a06bb2e9",
   "metadata": {},
   "outputs": [],
   "source": [
    "def D_calculator(data,R):\n",
    "    D = []\n",
    "    for index, row in data.iterrows():\n",
    "        D_temp = (row['M'] - R[index])/row['M']\n",
    "        D.append(D_temp)\n",
    "    \n",
    "    return sum(D)/len(R)"
   ]
  },
  {
   "cell_type": "code",
   "execution_count": 27,
   "id": "1ad3bcf3-d03a-4706-a031-1d270c4fb693",
   "metadata": {},
   "outputs": [
    {
     "name": "stdout",
     "output_type": "stream",
     "text": [
      "Objective : 31861.144208611397\n",
      "alpha : 202.38427645338578\n",
      "beta : 0.12272740291966189\n"
     ]
    }
   ],
   "source": [
    "print(\"Objective : {}\".format(objective(data,R,[])[0]))\n",
    "print(\"alpha : {}\".format(sum(R)/len(R)))\n",
    "print(\"beta : {}\".format(D_calculator(data,R)))"
   ]
  },
  {
   "cell_type": "markdown",
   "id": "56485f79-c19a-4c82-b351-fbec72b20f9c",
   "metadata": {},
   "source": [
    "# Test 2"
   ]
  },
  {
   "cell_type": "code",
   "execution_count": 28,
   "id": "54409d5f-e918-45c4-a8cd-ff829226fc7c",
   "metadata": {},
   "outputs": [],
   "source": [
    "R = []\n",
    "for index, row in data.iterrows():\n",
    "    temp_R = random.uniform(row['C'],row['M'])\n",
    "    R.append(temp_R)"
   ]
  },
  {
   "cell_type": "code",
   "execution_count": 29,
   "id": "c71866c9-c75a-4d81-95da-e9c18e6729aa",
   "metadata": {},
   "outputs": [
    {
     "name": "stdout",
     "output_type": "stream",
     "text": [
      "Objective : 25892.778925010694\n",
      "alpha : 200.94539754871764\n",
      "beta : 0.13205294647961538\n"
     ]
    }
   ],
   "source": [
    "print(\"Objective : {}\".format(objective(data,R,[])[0]))\n",
    "print(\"alpha : {}\".format(sum(R)/len(R)))\n",
    "print(\"beta : {}\".format(D_calculator(data,R)))"
   ]
  },
  {
   "cell_type": "markdown",
   "id": "6db876c7-2eab-4686-89ad-995f88e1dd14",
   "metadata": {},
   "source": [
    "# Test 3"
   ]
  },
  {
   "cell_type": "code",
   "execution_count": 35,
   "id": "49a41720-4c4e-4221-8913-5d67b63c1c0f",
   "metadata": {},
   "outputs": [
    {
     "name": "stdout",
     "output_type": "stream",
     "text": [
      "Objective : 215915.10441254167\n",
      "alpha : 343.5052007165592\n",
      "beta : -0.502496994430605\n"
     ]
    }
   ],
   "source": [
    "R = []\n",
    "for index, row in data.iterrows():\n",
    "    temp_R = random.gauss(row['M'],row['C'])\n",
    "    if temp_R < row['C']:\n",
    "        temp_R = row['C'] - temp_R\n",
    "        temp_R+= row['C']\n",
    "        \n",
    "    R.append(temp_R)\n",
    "    \n",
    "print(\"Objective : {}\".format(objective(data,R,[])[0]))\n",
    "print(\"alpha : {}\".format(sum(R)/len(R)))\n",
    "print(\"beta : {}\".format(D_calculator(data,R)))"
   ]
  },
  {
   "cell_type": "markdown",
   "id": "9e41bebe-0a4e-415a-9afc-cbb86b3d67fb",
   "metadata": {},
   "source": [
    "# Test 4"
   ]
  },
  {
   "cell_type": "code",
   "execution_count": 36,
   "id": "f73e5d87-1d2c-4036-9e4f-f32c40aa1520",
   "metadata": {},
   "outputs": [
    {
     "name": "stdout",
     "output_type": "stream",
     "text": [
      "Objective : -185080.3967826629\n",
      "alpha : 15.696447363555007\n",
      "beta : 0.9106891631061359\n"
     ]
    }
   ],
   "source": [
    "R = []\n",
    "for index, row in data.iterrows():\n",
    "    temp_R = random.gauss(row['C'],row['M'])\n",
    "    if temp_R > row['M']:\n",
    "        temp_R = temp_R - row['M'] \n",
    "        temp_R= row['M'] - temp_R\n",
    "        \n",
    "    R.append(temp_R)\n",
    "    \n",
    "print(\"Objective : {}\".format(objective(data,R,[])[0]))\n",
    "print(\"alpha : {}\".format(sum(R)/len(R)))\n",
    "print(\"beta : {}\".format(D_calculator(data,R)))"
   ]
  },
  {
   "cell_type": "code",
   "execution_count": null,
   "id": "b58bd1cc-fb7b-4b04-8b2a-337de306a492",
   "metadata": {},
   "outputs": [],
   "source": []
  }
 ],
 "metadata": {
  "kernelspec": {
   "display_name": "Python 3 (ipykernel)",
   "language": "python",
   "name": "python3"
  },
  "language_info": {
   "codemirror_mode": {
    "name": "ipython",
    "version": 3
   },
   "file_extension": ".py",
   "mimetype": "text/x-python",
   "name": "python",
   "nbconvert_exporter": "python",
   "pygments_lexer": "ipython3",
   "version": "3.10.0"
  }
 },
 "nbformat": 4,
 "nbformat_minor": 5
}
