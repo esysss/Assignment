{
 "cells": [
  {
   "cell_type": "code",
   "execution_count": 4,
   "id": "b66fa581-eafe-4919-b5d3-4469d3004f1c",
   "metadata": {},
   "outputs": [],
   "source": [
    "import pandas as pd\n",
    "import random"
   ]
  },
  {
   "cell_type": "code",
   "execution_count": 5,
   "id": "f247fb48-540c-465e-8246-78b905ef377d",
   "metadata": {},
   "outputs": [
    {
     "data": {
      "text/html": [
       "<div>\n",
       "<style scoped>\n",
       "    .dataframe tbody tr th:only-of-type {\n",
       "        vertical-align: middle;\n",
       "    }\n",
       "\n",
       "    .dataframe tbody tr th {\n",
       "        vertical-align: top;\n",
       "    }\n",
       "\n",
       "    .dataframe thead th {\n",
       "        text-align: right;\n",
       "    }\n",
       "</style>\n",
       "<table border=\"1\" class=\"dataframe\">\n",
       "  <thead>\n",
       "    <tr style=\"text-align: right;\">\n",
       "      <th></th>\n",
       "      <th>C</th>\n",
       "      <th>n</th>\n",
       "      <th>M</th>\n",
       "    </tr>\n",
       "  </thead>\n",
       "  <tbody>\n",
       "    <tr>\n",
       "      <th>0</th>\n",
       "      <td>159.00</td>\n",
       "      <td>2</td>\n",
       "      <td>259.00</td>\n",
       "    </tr>\n",
       "    <tr>\n",
       "      <th>1</th>\n",
       "      <td>129.00</td>\n",
       "      <td>45</td>\n",
       "      <td>174.00</td>\n",
       "    </tr>\n",
       "    <tr>\n",
       "      <th>2</th>\n",
       "      <td>115.31</td>\n",
       "      <td>21</td>\n",
       "      <td>154.00</td>\n",
       "    </tr>\n",
       "    <tr>\n",
       "      <th>3</th>\n",
       "      <td>111.25</td>\n",
       "      <td>5</td>\n",
       "      <td>111.25</td>\n",
       "    </tr>\n",
       "    <tr>\n",
       "      <th>4</th>\n",
       "      <td>111.69</td>\n",
       "      <td>7</td>\n",
       "      <td>111.69</td>\n",
       "    </tr>\n",
       "  </tbody>\n",
       "</table>\n",
       "</div>"
      ],
      "text/plain": [
       "        C   n       M\n",
       "0  159.00   2  259.00\n",
       "1  129.00  45  174.00\n",
       "2  115.31  21  154.00\n",
       "3  111.25   5  111.25\n",
       "4  111.69   7  111.69"
      ]
     },
     "execution_count": 5,
     "metadata": {},
     "output_type": "execute_result"
    }
   ],
   "source": [
    "data = pd.read_excel(\"Sample_data.xlsx\")\n",
    "data.head()"
   ]
  },
  {
   "cell_type": "code",
   "execution_count": 6,
   "id": "1d3cfe39-36d6-4515-866f-0e2dacb69ecb",
   "metadata": {},
   "outputs": [],
   "source": [
    "R = []\n",
    "for index, row in data.iterrows():\n",
    "    temp_R = random.uniform(row['C'],row['M'])\n",
    "    R.append(temp_R)"
   ]
  },
  {
   "cell_type": "code",
   "execution_count": 19,
   "id": "18013925-2097-4598-9e4c-3e8e2f565576",
   "metadata": {},
   "outputs": [],
   "source": [
    "def objective(data, r, problems):\n",
    "    with_problems = 0\n",
    "    without_problems = 0\n",
    "    for index, row in data.iterrows():\n",
    "        with_problems += (r[index] - row[\"C\"]) * row['n']\n",
    "        if i not in problems:\n",
    "            without_problems += (r[index] - row[\"C\"]) * row['n']\n",
    "  \n",
    "    return with_problems,without_problems"
   ]
  },
  {
   "cell_type": "code",
   "execution_count": 9,
   "id": "31853730-128f-499c-8e4e-a9f3f3c30937",
   "metadata": {},
   "outputs": [
    {
     "data": {
      "text/plain": [
       "(31861.144208611397, 31861.144208611397)"
      ]
     },
     "execution_count": 9,
     "metadata": {},
     "output_type": "execute_result"
    }
   ],
   "source": [
    "samples = data.to_dict('index')\n",
    "\n",
    "objective(samples,R,[])"
   ]
  },
  {
   "cell_type": "code",
   "execution_count": 10,
   "id": "9be565be-7c70-426a-bb2e-59bfd616b7cd",
   "metadata": {},
   "outputs": [
    {
     "data": {
      "text/plain": [
       "202.38427645338578"
      ]
     },
     "execution_count": 10,
     "metadata": {},
     "output_type": "execute_result"
    }
   ],
   "source": [
    "sum(R)/len(R)"
   ]
  },
  {
   "cell_type": "code",
   "execution_count": 17,
   "id": "4ceb306b-3d7e-4c59-9a8a-0dc7a06bb2e9",
   "metadata": {},
   "outputs": [],
   "source": [
    "def D_calculator(data,R):\n",
    "    D = []\n",
    "    for index, row in data.iterrows():\n",
    "        D_temp = (row['M'] - R[index])/row['M']\n",
    "        D.append(D_temp)\n",
    "    \n",
    "    return sum(D)/len(R)"
   ]
  },
  {
   "cell_type": "code",
   "execution_count": 18,
   "id": "1ad3bcf3-d03a-4706-a031-1d270c4fb693",
   "metadata": {},
   "outputs": [
    {
     "data": {
      "text/plain": [
       "0.12272740291966189"
      ]
     },
     "execution_count": 18,
     "metadata": {},
     "output_type": "execute_result"
    }
   ],
   "source": [
    "D_calculator(data,R)"
   ]
  },
  {
   "cell_type": "code",
   "execution_count": null,
   "id": "28175a63-4101-4196-814f-8fcf20628655",
   "metadata": {},
   "outputs": [],
   "source": []
  },
  {
   "cell_type": "code",
   "execution_count": null,
   "id": "54409d5f-e918-45c4-a8cd-ff829226fc7c",
   "metadata": {},
   "outputs": [],
   "source": []
  },
  {
   "cell_type": "code",
   "execution_count": null,
   "id": "c71866c9-c75a-4d81-95da-e9c18e6729aa",
   "metadata": {},
   "outputs": [],
   "source": []
  }
 ],
 "metadata": {
  "kernelspec": {
   "display_name": "Python 3 (ipykernel)",
   "language": "python",
   "name": "python3"
  },
  "language_info": {
   "codemirror_mode": {
    "name": "ipython",
    "version": 3
   },
   "file_extension": ".py",
   "mimetype": "text/x-python",
   "name": "python",
   "nbconvert_exporter": "python",
   "pygments_lexer": "ipython3",
   "version": "3.10.0"
  }
 },
 "nbformat": 4,
 "nbformat_minor": 5
}
