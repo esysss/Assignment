{
 "cells": [
  {
   "cell_type": "code",
   "execution_count": 4,
   "id": "b66fa581-eafe-4919-b5d3-4469d3004f1c",
   "metadata": {},
   "outputs": [],
   "source": [
    "import pandas as pd\n",
    "import random"
   ]
  },
  {
   "cell_type": "code",
   "execution_count": 5,
   "id": "f247fb48-540c-465e-8246-78b905ef377d",
   "metadata": {},
   "outputs": [
    {
     "data": {
      "text/html": [
       "<div>\n",
       "<style scoped>\n",
       "    .dataframe tbody tr th:only-of-type {\n",
       "        vertical-align: middle;\n",
       "    }\n",
       "\n",
       "    .dataframe tbody tr th {\n",
       "        vertical-align: top;\n",
       "    }\n",
       "\n",
       "    .dataframe thead th {\n",
       "        text-align: right;\n",
       "    }\n",
       "</style>\n",
       "<table border=\"1\" class=\"dataframe\">\n",
       "  <thead>\n",
       "    <tr style=\"text-align: right;\">\n",
       "      <th></th>\n",
       "      <th>C</th>\n",
       "      <th>n</th>\n",
       "      <th>M</th>\n",
       "    </tr>\n",
       "  </thead>\n",
       "  <tbody>\n",
       "    <tr>\n",
       "      <th>0</th>\n",
       "      <td>159.00</td>\n",
       "      <td>2</td>\n",
       "      <td>259.00</td>\n",
       "    </tr>\n",
       "    <tr>\n",
       "      <th>1</th>\n",
       "      <td>129.00</td>\n",
       "      <td>45</td>\n",
       "      <td>174.00</td>\n",
       "    </tr>\n",
       "    <tr>\n",
       "      <th>2</th>\n",
       "      <td>115.31</td>\n",
       "      <td>21</td>\n",
       "      <td>154.00</td>\n",
       "    </tr>\n",
       "    <tr>\n",
       "      <th>3</th>\n",
       "      <td>111.25</td>\n",
       "      <td>5</td>\n",
       "      <td>111.25</td>\n",
       "    </tr>\n",
       "    <tr>\n",
       "      <th>4</th>\n",
       "      <td>111.69</td>\n",
       "      <td>7</td>\n",
       "      <td>111.69</td>\n",
       "    </tr>\n",
       "  </tbody>\n",
       "</table>\n",
       "</div>"
      ],
      "text/plain": [
       "        C   n       M\n",
       "0  159.00   2  259.00\n",
       "1  129.00  45  174.00\n",
       "2  115.31  21  154.00\n",
       "3  111.25   5  111.25\n",
       "4  111.69   7  111.69"
      ]
     },
     "execution_count": 5,
     "metadata": {},
     "output_type": "execute_result"
    }
   ],
   "source": [
    "data = pd.read_excel(\"Sample_data.xlsx\")\n",
    "data.head()"
   ]
  },
  {
   "cell_type": "code",
   "execution_count": 6,
   "id": "1d3cfe39-36d6-4515-866f-0e2dacb69ecb",
   "metadata": {},
   "outputs": [],
   "source": [
    "R = []\n",
    "for index, row in data.iterrows():\n",
    "    temp_R = random.uniform(row['C'],row['M'])\n",
    "    R.append(temp_R)"
   ]
  },
  {
   "cell_type": "code",
   "execution_count": 8,
   "id": "18013925-2097-4598-9e4c-3e8e2f565576",
   "metadata": {},
   "outputs": [],
   "source": [
    "def objective(samples, r, problems):\n",
    "    with_problems = 0\n",
    "    without_problems = 0\n",
    "    for i in range(len(samples)):\n",
    "        with_problems += (r[i]-samples[i][\"C\"])*samples[i][\"n\"]\n",
    "        if i not in problems:\n",
    "            without_problems += (r[i]-samples[i][\"C\"])*samples[i][\"n\"]\n",
    "  \n",
    "    return with_problems,without_problems"
   ]
  },
  {
   "cell_type": "code",
   "execution_count": 9,
   "id": "31853730-128f-499c-8e4e-a9f3f3c30937",
   "metadata": {},
   "outputs": [
    {
     "data": {
      "text/plain": [
       "(31861.144208611397, 31861.144208611397)"
      ]
     },
     "execution_count": 9,
     "metadata": {},
     "output_type": "execute_result"
    }
   ],
   "source": [
    "samples = data.to_dict('index')\n",
    "\n",
    "objective(samples,R,[])"
   ]
  },
  {
   "cell_type": "code",
   "execution_count": 10,
   "id": "9be565be-7c70-426a-bb2e-59bfd616b7cd",
   "metadata": {},
   "outputs": [
    {
     "data": {
      "text/plain": [
       "202.38427645338578"
      ]
     },
     "execution_count": 10,
     "metadata": {},
     "output_type": "execute_result"
    }
   ],
   "source": [
    "sum(R)/len(R)"
   ]
  },
  {
   "cell_type": "code",
   "execution_count": 11,
   "id": "4ceb306b-3d7e-4c59-9a8a-0dc7a06bb2e9",
   "metadata": {},
   "outputs": [
    {
     "ename": "IndentationError",
     "evalue": "expected an indented block after 'for' statement on line 2 (774922753.py, line 2)",
     "output_type": "error",
     "traceback": [
      "\u001b[1;36m  Input \u001b[1;32mIn [11]\u001b[1;36m\u001b[0m\n\u001b[1;33m    for i in range(len(samples)):\u001b[0m\n\u001b[1;37m                                 ^\u001b[0m\n\u001b[1;31mIndentationError\u001b[0m\u001b[1;31m:\u001b[0m expected an indented block after 'for' statement on line 2\n"
     ]
    }
   ],
   "source": [
    "def D_calculator(samples,R):\n",
    "    for i in range(len(samples):"
   ]
  },
  {
   "cell_type": "code",
   "execution_count": 13,
   "id": "1ad3bcf3-d03a-4706-a031-1d270c4fb693",
   "metadata": {},
   "outputs": [
    {
     "name": "stdout",
     "output_type": "stream",
     "text": [
      "{'C': 159.0, 'n': 2, 'M': 259.0}\n",
      "{'C': 129.0, 'n': 45, 'M': 174.0}\n",
      "{'C': 115.31, 'n': 21, 'M': 154.0}\n",
      "{'C': 111.25, 'n': 5, 'M': 111.25}\n",
      "{'C': 111.69, 'n': 7, 'M': 111.69}\n",
      "{'C': 112.0, 'n': 7, 'M': 115.0}\n",
      "{'C': 180.45, 'n': 6, 'M': 220.0}\n",
      "{'C': 151.16, 'n': 14, 'M': 220.0}\n",
      "{'C': 134.23, 'n': 7, 'M': 180.0}\n",
      "{'C': 129.44, 'n': 61, 'M': 180.0}\n",
      "{'C': 180.45, 'n': 6, 'M': 220.0}\n",
      "{'C': 151.16, 'n': 14, 'M': 220.0}\n",
      "{'C': 134.23, 'n': 7, 'M': 180.0}\n",
      "{'C': 129.44, 'n': 61, 'M': 180.0}\n",
      "{'C': 166.99, 'n': 67, 'M': 219.99}\n",
      "{'C': 166.99, 'n': 67, 'M': 219.99}\n",
      "{'C': 224.0, 'n': 1, 'M': 289.0}\n",
      "{'C': 214.0, 'n': 2, 'M': 289.0}\n",
      "{'C': 219.0, 'n': 1, 'M': 289.0}\n",
      "{'C': 159.0, 'n': 14, 'M': 214.0}\n",
      "{'C': 159.0, 'n': 8, 'M': 214.0}\n",
      "{'C': 133.23, 'n': 27, 'M': 204.0}\n",
      "{'C': 133.23, 'n': 14, 'M': 204.0}\n",
      "{'C': 141.55, 'n': 1, 'M': 208.0}\n",
      "{'C': 199.0, 'n': 14, 'M': 299.0}\n",
      "{'C': 100.61, 'n': 31, 'M': 137.0}\n",
      "{'C': 123.28, 'n': 5, 'M': 179.0}\n",
      "{'C': 123.28, 'n': 2, 'M': 179.0}\n",
      "{'C': 127.98, 'n': 6, 'M': 179.0}\n",
      "{'C': 127.98, 'n': 6, 'M': 179.0}\n",
      "{'C': 123.28, 'n': 11, 'M': 179.0}\n",
      "{'C': 124.93, 'n': 8, 'M': 179.0}\n",
      "{'C': 123.23, 'n': 14, 'M': 123.23}\n",
      "{'C': 235.18, 'n': 3, 'M': 339.0}\n",
      "{'C': 264.38, 'n': 21, 'M': 339.0}\n",
      "{'C': 113.85, 'n': 4, 'M': 162.0}\n",
      "{'C': 179.0, 'n': 2, 'M': 247.0}\n",
      "{'C': 132.98, 'n': 4, 'M': 204.0}\n",
      "{'C': 119.0, 'n': 3, 'M': 119.0}\n",
      "{'C': 125.52, 'n': 13, 'M': 125.52}\n",
      "{'C': 182.18, 'n': 33, 'M': 244.0}\n",
      "{'C': 169.0, 'n': 8, 'M': 244.0}\n",
      "{'C': 174.0, 'n': 1, 'M': 244.0}\n",
      "{'C': 184.0, 'n': 1, 'M': 244.0}\n",
      "{'C': 169.0, 'n': 28, 'M': 239.0}\n",
      "{'C': 179.0, 'n': 17, 'M': 239.0}\n",
      "{'C': 229.0, 'n': 21, 'M': 299.0}\n",
      "{'C': 231.5, 'n': 6, 'M': 299.0}\n",
      "{'C': 193.96, 'n': 33, 'M': 193.96}\n",
      "{'C': 248.05, 'n': 25, 'M': 349.0}\n",
      "{'C': 270.0, 'n': 25, 'M': 349.0}\n",
      "{'C': 209.99, 'n': 1, 'M': 315.0}\n",
      "{'C': 209.99, 'n': 1, 'M': 315.0}\n",
      "{'C': 109.0, 'n': 4, 'M': 129.0}\n",
      "{'C': 154.0, 'n': 1, 'M': 209.0}\n",
      "{'C': 154.0, 'n': 5, 'M': 209.0}\n",
      "{'C': 158.0, 'n': 2, 'M': 178.0}\n",
      "{'C': 161.24, 'n': 1, 'M': 178.0}\n",
      "{'C': 175.0, 'n': 5, 'M': 224.0}\n",
      "{'C': 230.0, 'n': 11, 'M': 309.0}\n",
      "{'C': 169.0, 'n': 3, 'M': 259.0}\n",
      "{'C': 178.09, 'n': 11, 'M': 249.0}\n",
      "{'C': 99.0, 'n': 3, 'M': 144.0}\n",
      "{'C': 211.0, 'n': 5, 'M': 359.0}\n",
      "{'C': 171.0, 'n': 5, 'M': 259.0}\n",
      "{'C': 149.0, 'n': 1, 'M': 224.0}\n",
      "{'C': 144.0, 'n': 1, 'M': 224.0}\n",
      "{'C': 169.0, 'n': 10, 'M': 259.0}\n",
      "{'C': 169.0, 'n': 10, 'M': 259.0}\n",
      "{'C': 149.0, 'n': 3, 'M': 224.0}\n",
      "{'C': 149.0, 'n': 3, 'M': 224.0}\n",
      "{'C': 169.49, 'n': 26, 'M': 229.99}\n",
      "{'C': 189.49, 'n': 15, 'M': 239.49}\n",
      "{'C': 204.0, 'n': 1, 'M': 239.49}\n",
      "{'C': 189.49, 'n': 11, 'M': 239.49}\n",
      "{'C': 185.88, 'n': 6, 'M': 264.0}\n",
      "{'C': 173.22, 'n': 6, 'M': 264.0}\n",
      "{'C': 173.22, 'n': 6, 'M': 282.0}\n",
      "{'C': 476.5, 'n': 3, 'M': 579.0}\n",
      "{'C': 222.16, 'n': 6, 'M': 279.0}\n",
      "{'C': 222.16, 'n': 1, 'M': 279.0}\n",
      "{'C': 579.0, 'n': 3, 'M': 579.0}\n",
      "{'C': 295.0, 'n': 26, 'M': 314.9}\n",
      "{'C': 220.71, 'n': 13, 'M': 294.0}\n",
      "{'C': 177.86, 'n': 13, 'M': 239.0}\n",
      "{'C': 148.95, 'n': 31, 'M': 148.95}\n",
      "{'C': 151.05, 'n': 1, 'M': 190.0}\n",
      "{'C': 306.87, 'n': 31, 'M': 306.87}\n",
      "{'C': 292.37, 'n': 29, 'M': 292.37}\n",
      "{'C': 229.64, 'n': 16, 'M': 229.64}\n",
      "{'C': 150.09, 'n': 16, 'M': 150.09}\n",
      "{'C': 136.14, 'n': 15, 'M': 184.0}\n",
      "{'C': 139.0, 'n': 7, 'M': 199.0}\n",
      "{'C': 109.73, 'n': 31, 'M': 109.73}\n",
      "{'C': 143.19, 'n': 32, 'M': 143.19}\n",
      "{'C': 136.28, 'n': 57, 'M': 136.28}\n",
      "{'C': 146.9, 'n': 61, 'M': 146.9}\n",
      "{'C': 235.0, 'n': 25, 'M': 367.0}\n",
      "{'C': 235.44, 'n': 24, 'M': 367.0}\n",
      "{'C': 179.0, 'n': 1, 'M': 240.0}\n"
     ]
    }
   ],
   "source": [
    "for index, row in data.iterrows():\n",
    "    "
   ]
  },
  {
   "cell_type": "code",
   "execution_count": null,
   "id": "28175a63-4101-4196-814f-8fcf20628655",
   "metadata": {},
   "outputs": [],
   "source": []
  }
 ],
 "metadata": {
  "kernelspec": {
   "display_name": "Python 3 (ipykernel)",
   "language": "python",
   "name": "python3"
  },
  "language_info": {
   "codemirror_mode": {
    "name": "ipython",
    "version": 3
   },
   "file_extension": ".py",
   "mimetype": "text/x-python",
   "name": "python",
   "nbconvert_exporter": "python",
   "pygments_lexer": "ipython3",
   "version": "3.10.0"
  }
 },
 "nbformat": 4,
 "nbformat_minor": 5
}
