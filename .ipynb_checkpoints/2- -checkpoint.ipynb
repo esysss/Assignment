{
  "nbformat": 4,
  "nbformat_minor": 0,
  "metadata": {
    "colab": {
      "provenance": []
    },
    "kernelspec": {
      "name": "python3",
      "display_name": "Python 3"
    },
    "language_info": {
      "name": "python"
    }
  },
  "cells": [
    {
      "cell_type": "code",
      "execution_count": 1,
      "metadata": {
        "colab": {
          "base_uri": "https://localhost:8080/"
        },
        "id": "-WefZa5r6m7y",
        "outputId": "fe16fb61-c363-4f7a-8ba7-f7f7877263ee"
      },
      "outputs": [
        {
          "name": "stdout",
          "output_type": "stream",
          "text": [
            "Once deleted, variables cannot be recovered. Proceed (y/[n])? y\n"
          ]
        }
      ],
      "source": [
        "%reset"
      ]
    },
    {
      "cell_type": "code",
      "source": [
        "import pandas as pd\n",
        "data = pd.read_excel(\"Sample_data.xlsx\")\n",
        "data.head()"
      ],
      "metadata": {
        "colab": {
          "base_uri": "https://localhost:8080/",
          "height": 206
        },
        "id": "Ys39rIb2W3Z2",
        "outputId": "4b504d74-8dd6-403d-b7ae-011cd4370faa"
      },
      "execution_count": 3,
      "outputs": [
        {
          "output_type": "execute_result",
          "data": {
            "text/plain": [
              "        C   n       M\n",
              "0  159.00   2  259.00\n",
              "1  129.00  45  174.00\n",
              "2  115.31  21  154.00\n",
              "3  111.25   5  111.25\n",
              "4  111.69   7  111.69"
            ],
            "text/html": [
              "\n",
              "  <div id=\"df-548bf175-9161-4f07-bafb-90fc82fb084f\" class=\"colab-df-container\">\n",
              "    <div>\n",
              "<style scoped>\n",
              "    .dataframe tbody tr th:only-of-type {\n",
              "        vertical-align: middle;\n",
              "    }\n",
              "\n",
              "    .dataframe tbody tr th {\n",
              "        vertical-align: top;\n",
              "    }\n",
              "\n",
              "    .dataframe thead th {\n",
              "        text-align: right;\n",
              "    }\n",
              "</style>\n",
              "<table border=\"1\" class=\"dataframe\">\n",
              "  <thead>\n",
              "    <tr style=\"text-align: right;\">\n",
              "      <th></th>\n",
              "      <th>C</th>\n",
              "      <th>n</th>\n",
              "      <th>M</th>\n",
              "    </tr>\n",
              "  </thead>\n",
              "  <tbody>\n",
              "    <tr>\n",
              "      <th>0</th>\n",
              "      <td>159.00</td>\n",
              "      <td>2</td>\n",
              "      <td>259.00</td>\n",
              "    </tr>\n",
              "    <tr>\n",
              "      <th>1</th>\n",
              "      <td>129.00</td>\n",
              "      <td>45</td>\n",
              "      <td>174.00</td>\n",
              "    </tr>\n",
              "    <tr>\n",
              "      <th>2</th>\n",
              "      <td>115.31</td>\n",
              "      <td>21</td>\n",
              "      <td>154.00</td>\n",
              "    </tr>\n",
              "    <tr>\n",
              "      <th>3</th>\n",
              "      <td>111.25</td>\n",
              "      <td>5</td>\n",
              "      <td>111.25</td>\n",
              "    </tr>\n",
              "    <tr>\n",
              "      <th>4</th>\n",
              "      <td>111.69</td>\n",
              "      <td>7</td>\n",
              "      <td>111.69</td>\n",
              "    </tr>\n",
              "  </tbody>\n",
              "</table>\n",
              "</div>\n",
              "    <div class=\"colab-df-buttons\">\n",
              "\n",
              "  <div class=\"colab-df-container\">\n",
              "    <button class=\"colab-df-convert\" onclick=\"convertToInteractive('df-548bf175-9161-4f07-bafb-90fc82fb084f')\"\n",
              "            title=\"Convert this dataframe to an interactive table.\"\n",
              "            style=\"display:none;\">\n",
              "\n",
              "  <svg xmlns=\"http://www.w3.org/2000/svg\" height=\"24px\" viewBox=\"0 -960 960 960\">\n",
              "    <path d=\"M120-120v-720h720v720H120Zm60-500h600v-160H180v160Zm220 220h160v-160H400v160Zm0 220h160v-160H400v160ZM180-400h160v-160H180v160Zm440 0h160v-160H620v160ZM180-180h160v-160H180v160Zm440 0h160v-160H620v160Z\"/>\n",
              "  </svg>\n",
              "    </button>\n",
              "\n",
              "  <style>\n",
              "    .colab-df-container {\n",
              "      display:flex;\n",
              "      gap: 12px;\n",
              "    }\n",
              "\n",
              "    .colab-df-convert {\n",
              "      background-color: #E8F0FE;\n",
              "      border: none;\n",
              "      border-radius: 50%;\n",
              "      cursor: pointer;\n",
              "      display: none;\n",
              "      fill: #1967D2;\n",
              "      height: 32px;\n",
              "      padding: 0 0 0 0;\n",
              "      width: 32px;\n",
              "    }\n",
              "\n",
              "    .colab-df-convert:hover {\n",
              "      background-color: #E2EBFA;\n",
              "      box-shadow: 0px 1px 2px rgba(60, 64, 67, 0.3), 0px 1px 3px 1px rgba(60, 64, 67, 0.15);\n",
              "      fill: #174EA6;\n",
              "    }\n",
              "\n",
              "    .colab-df-buttons div {\n",
              "      margin-bottom: 4px;\n",
              "    }\n",
              "\n",
              "    [theme=dark] .colab-df-convert {\n",
              "      background-color: #3B4455;\n",
              "      fill: #D2E3FC;\n",
              "    }\n",
              "\n",
              "    [theme=dark] .colab-df-convert:hover {\n",
              "      background-color: #434B5C;\n",
              "      box-shadow: 0px 1px 3px 1px rgba(0, 0, 0, 0.15);\n",
              "      filter: drop-shadow(0px 1px 2px rgba(0, 0, 0, 0.3));\n",
              "      fill: #FFFFFF;\n",
              "    }\n",
              "  </style>\n",
              "\n",
              "    <script>\n",
              "      const buttonEl =\n",
              "        document.querySelector('#df-548bf175-9161-4f07-bafb-90fc82fb084f button.colab-df-convert');\n",
              "      buttonEl.style.display =\n",
              "        google.colab.kernel.accessAllowed ? 'block' : 'none';\n",
              "\n",
              "      async function convertToInteractive(key) {\n",
              "        const element = document.querySelector('#df-548bf175-9161-4f07-bafb-90fc82fb084f');\n",
              "        const dataTable =\n",
              "          await google.colab.kernel.invokeFunction('convertToInteractive',\n",
              "                                                    [key], {});\n",
              "        if (!dataTable) return;\n",
              "\n",
              "        const docLinkHtml = 'Like what you see? Visit the ' +\n",
              "          '<a target=\"_blank\" href=https://colab.research.google.com/notebooks/data_table.ipynb>data table notebook</a>'\n",
              "          + ' to learn more about interactive tables.';\n",
              "        element.innerHTML = '';\n",
              "        dataTable['output_type'] = 'display_data';\n",
              "        await google.colab.output.renderOutput(dataTable, element);\n",
              "        const docLink = document.createElement('div');\n",
              "        docLink.innerHTML = docLinkHtml;\n",
              "        element.appendChild(docLink);\n",
              "      }\n",
              "    </script>\n",
              "  </div>\n",
              "\n",
              "\n",
              "<div id=\"df-e1aee6d5-af52-4c97-b2b7-765f62e254f1\">\n",
              "  <button class=\"colab-df-quickchart\" onclick=\"quickchart('df-e1aee6d5-af52-4c97-b2b7-765f62e254f1')\"\n",
              "            title=\"Suggest charts\"\n",
              "            style=\"display:none;\">\n",
              "\n",
              "<svg xmlns=\"http://www.w3.org/2000/svg\" height=\"24px\"viewBox=\"0 0 24 24\"\n",
              "     width=\"24px\">\n",
              "    <g>\n",
              "        <path d=\"M19 3H5c-1.1 0-2 .9-2 2v14c0 1.1.9 2 2 2h14c1.1 0 2-.9 2-2V5c0-1.1-.9-2-2-2zM9 17H7v-7h2v7zm4 0h-2V7h2v10zm4 0h-2v-4h2v4z\"/>\n",
              "    </g>\n",
              "</svg>\n",
              "  </button>\n",
              "\n",
              "<style>\n",
              "  .colab-df-quickchart {\n",
              "      --bg-color: #E8F0FE;\n",
              "      --fill-color: #1967D2;\n",
              "      --hover-bg-color: #E2EBFA;\n",
              "      --hover-fill-color: #174EA6;\n",
              "      --disabled-fill-color: #AAA;\n",
              "      --disabled-bg-color: #DDD;\n",
              "  }\n",
              "\n",
              "  [theme=dark] .colab-df-quickchart {\n",
              "      --bg-color: #3B4455;\n",
              "      --fill-color: #D2E3FC;\n",
              "      --hover-bg-color: #434B5C;\n",
              "      --hover-fill-color: #FFFFFF;\n",
              "      --disabled-bg-color: #3B4455;\n",
              "      --disabled-fill-color: #666;\n",
              "  }\n",
              "\n",
              "  .colab-df-quickchart {\n",
              "    background-color: var(--bg-color);\n",
              "    border: none;\n",
              "    border-radius: 50%;\n",
              "    cursor: pointer;\n",
              "    display: none;\n",
              "    fill: var(--fill-color);\n",
              "    height: 32px;\n",
              "    padding: 0;\n",
              "    width: 32px;\n",
              "  }\n",
              "\n",
              "  .colab-df-quickchart:hover {\n",
              "    background-color: var(--hover-bg-color);\n",
              "    box-shadow: 0 1px 2px rgba(60, 64, 67, 0.3), 0 1px 3px 1px rgba(60, 64, 67, 0.15);\n",
              "    fill: var(--button-hover-fill-color);\n",
              "  }\n",
              "\n",
              "  .colab-df-quickchart-complete:disabled,\n",
              "  .colab-df-quickchart-complete:disabled:hover {\n",
              "    background-color: var(--disabled-bg-color);\n",
              "    fill: var(--disabled-fill-color);\n",
              "    box-shadow: none;\n",
              "  }\n",
              "\n",
              "  .colab-df-spinner {\n",
              "    border: 2px solid var(--fill-color);\n",
              "    border-color: transparent;\n",
              "    border-bottom-color: var(--fill-color);\n",
              "    animation:\n",
              "      spin 1s steps(1) infinite;\n",
              "  }\n",
              "\n",
              "  @keyframes spin {\n",
              "    0% {\n",
              "      border-color: transparent;\n",
              "      border-bottom-color: var(--fill-color);\n",
              "      border-left-color: var(--fill-color);\n",
              "    }\n",
              "    20% {\n",
              "      border-color: transparent;\n",
              "      border-left-color: var(--fill-color);\n",
              "      border-top-color: var(--fill-color);\n",
              "    }\n",
              "    30% {\n",
              "      border-color: transparent;\n",
              "      border-left-color: var(--fill-color);\n",
              "      border-top-color: var(--fill-color);\n",
              "      border-right-color: var(--fill-color);\n",
              "    }\n",
              "    40% {\n",
              "      border-color: transparent;\n",
              "      border-right-color: var(--fill-color);\n",
              "      border-top-color: var(--fill-color);\n",
              "    }\n",
              "    60% {\n",
              "      border-color: transparent;\n",
              "      border-right-color: var(--fill-color);\n",
              "    }\n",
              "    80% {\n",
              "      border-color: transparent;\n",
              "      border-right-color: var(--fill-color);\n",
              "      border-bottom-color: var(--fill-color);\n",
              "    }\n",
              "    90% {\n",
              "      border-color: transparent;\n",
              "      border-bottom-color: var(--fill-color);\n",
              "    }\n",
              "  }\n",
              "</style>\n",
              "\n",
              "  <script>\n",
              "    async function quickchart(key) {\n",
              "      const quickchartButtonEl =\n",
              "        document.querySelector('#' + key + ' button');\n",
              "      quickchartButtonEl.disabled = true;  // To prevent multiple clicks.\n",
              "      quickchartButtonEl.classList.add('colab-df-spinner');\n",
              "      try {\n",
              "        const charts = await google.colab.kernel.invokeFunction(\n",
              "            'suggestCharts', [key], {});\n",
              "      } catch (error) {\n",
              "        console.error('Error during call to suggestCharts:', error);\n",
              "      }\n",
              "      quickchartButtonEl.classList.remove('colab-df-spinner');\n",
              "      quickchartButtonEl.classList.add('colab-df-quickchart-complete');\n",
              "    }\n",
              "    (() => {\n",
              "      let quickchartButtonEl =\n",
              "        document.querySelector('#df-e1aee6d5-af52-4c97-b2b7-765f62e254f1 button');\n",
              "      quickchartButtonEl.style.display =\n",
              "        google.colab.kernel.accessAllowed ? 'block' : 'none';\n",
              "    })();\n",
              "  </script>\n",
              "</div>\n",
              "    </div>\n",
              "  </div>\n"
            ],
            "application/vnd.google.colaboratory.intrinsic+json": {
              "type": "dataframe",
              "variable_name": "data",
              "summary": "{\n  \"name\": \"data\",\n  \"rows\": 100,\n  \"fields\": [\n    {\n      \"column\": \"C\",\n      \"properties\": {\n        \"dtype\": \"number\",\n        \"std\": 67.87822676289316,\n        \"min\": 99.0,\n        \"max\": 579.0,\n        \"num_unique_values\": 76,\n        \"samples\": [\n          111.69,\n          193.96,\n          166.99\n        ],\n        \"semantic_type\": \"\",\n        \"description\": \"\"\n      }\n    },\n    {\n      \"column\": \"n\",\n      \"properties\": {\n        \"dtype\": \"number\",\n        \"std\": 15,\n        \"min\": 1,\n        \"max\": 67,\n        \"num_unique_values\": 29,\n        \"samples\": [\n          57,\n          13,\n          31\n        ],\n        \"semantic_type\": \"\",\n        \"description\": \"\"\n      }\n    },\n    {\n      \"column\": \"M\",\n      \"properties\": {\n        \"dtype\": \"number\",\n        \"std\": 80.38914514762337,\n        \"min\": 109.73,\n        \"max\": 579.0,\n        \"num_unique_values\": 57,\n        \"samples\": [\n          259.0,\n          115.0,\n          224.0\n        ],\n        \"semantic_type\": \"\",\n        \"description\": \"\"\n      }\n    }\n  ]\n}"
            }
          },
          "metadata": {},
          "execution_count": 3
        }
      ]
    },
    {
      "cell_type": "code",
      "source": [
        "!pip install PuLP"
      ],
      "metadata": {
        "colab": {
          "base_uri": "https://localhost:8080/"
        },
        "id": "wNatrdE1JQgs",
        "outputId": "64128629-389e-425b-b442-42cc2a8731bc"
      },
      "execution_count": 4,
      "outputs": [
        {
          "output_type": "stream",
          "name": "stdout",
          "text": [
            "Collecting PuLP\n",
            "  Downloading PuLP-2.8.0-py3-none-any.whl (17.7 MB)\n",
            "\u001b[2K     \u001b[90m━━━━━━━━━━━━━━━━━━━━━━━━━━━━━━━━━━━━━━━━\u001b[0m \u001b[32m17.7/17.7 MB\u001b[0m \u001b[31m54.0 MB/s\u001b[0m eta \u001b[36m0:00:00\u001b[0m\n",
            "\u001b[?25hInstalling collected packages: PuLP\n",
            "Successfully installed PuLP-2.8.0\n"
          ]
        }
      ]
    },
    {
      "cell_type": "code",
      "source": [
        "import pulp\n",
        "\n",
        "samples = data.to_dict('index')\n",
        "\n",
        "# Define constants\n",
        "alpha = 200\n",
        "beta = 0.15\n",
        "\n",
        "# Create a LP problem\n",
        "problem = pulp.LpProblem(\"Maximize Marker Rate\", pulp.LpMaximize)\n",
        "\n",
        "# Define decision variables\n",
        "R = {sample: pulp.LpVariable(\"sample{}\".format(sample), lowBound=samples[sample]['C'], upBound=samples[sample]['M'], cat='Continuous') for sample in samples}\n",
        "\n",
        "problem += sum((R[sample] - samples[sample]['C']) * samples[sample]['n'] for sample in samples)\n",
        "\n",
        "# Add constraints\n",
        "for sample in samples:\n",
        "  problem += samples[sample]['M'] >= samples[sample]['C']  # M>=C\n",
        "  problem += sum(R.values()) <= alpha  # R <= \\alpha\n",
        "  problem += sum([(samples[sample]['M'] - R[sample]) / samples[sample]['M'] for sample in samples]) / len(samples) >= beta  # Maximum average deviation\n",
        "\n",
        "# Solve the problem\n",
        "problem.solve()\n",
        "\n",
        "\n",
        "# Print results\n",
        "print(\"Status:\", pulp.LpStatus[problem.status])\n",
        "\n",
        "print(\"Optimal Allocation:\")\n",
        "for i in samples:\n",
        "  print(\"Index = {}, C = {}, M = {}, R = {}\".format(i, samples[i]['C'], samples[i]['M'], R[i].varValue))\n",
        "\n",
        "print(\"Total Objective Value:\", pulp.value(problem.objective))"
      ],
      "metadata": {
        "colab": {
          "base_uri": "https://localhost:8080/"
        },
        "id": "20P17XWOJW12",
        "outputId": "79c2a4ae-bf42-4e90-d77e-b1ffe728fabb"
      },
      "execution_count": 5,
      "outputs": [
        {
          "output_type": "stream",
          "name": "stderr",
          "text": [
            "/usr/local/lib/python3.10/dist-packages/pulp/pulp.py:1316: UserWarning: Spaces are not permitted in the name. Converted to '_'\n",
            "  warnings.warn(\"Spaces are not permitted in the name. Converted to '_'\")\n"
          ]
        },
        {
          "output_type": "stream",
          "name": "stdout",
          "text": [
            "Status: Infeasible\n",
            "Optimal Allocation:\n",
            "Index = 0, C = 159.0, M = 259.0, R = 159.0\n",
            "Index = 1, C = 129.0, M = 174.0, R = 129.0\n",
            "Index = 2, C = 115.31, M = 154.0, R = 115.31\n",
            "Index = 3, C = 111.25, M = 111.25, R = 111.25\n",
            "Index = 4, C = 111.69, M = 111.69, R = 111.69\n",
            "Index = 5, C = 112.0, M = 115.0, R = 112.0\n",
            "Index = 6, C = 180.45, M = 220.0, R = 180.45\n",
            "Index = 7, C = 151.16, M = 220.0, R = 151.16\n",
            "Index = 8, C = 134.23, M = 180.0, R = 134.23\n",
            "Index = 9, C = 129.44, M = 180.0, R = 129.44\n",
            "Index = 10, C = 180.45, M = 220.0, R = 180.45\n",
            "Index = 11, C = 151.16, M = 220.0, R = 151.16\n",
            "Index = 12, C = 134.23, M = 180.0, R = 134.23\n",
            "Index = 13, C = 129.44, M = 180.0, R = 129.44\n",
            "Index = 14, C = 166.99, M = 219.99, R = 166.99\n",
            "Index = 15, C = 166.99, M = 219.99, R = -17388.12\n",
            "Index = 16, C = 224.0, M = 289.0, R = 224.0\n",
            "Index = 17, C = 214.0, M = 289.0, R = 214.0\n",
            "Index = 18, C = 219.0, M = 289.0, R = 219.0\n",
            "Index = 19, C = 159.0, M = 214.0, R = 159.0\n",
            "Index = 20, C = 159.0, M = 214.0, R = 159.0\n",
            "Index = 21, C = 133.23, M = 204.0, R = 133.23\n",
            "Index = 22, C = 133.23, M = 204.0, R = 133.23\n",
            "Index = 23, C = 141.55, M = 208.0, R = 141.55\n",
            "Index = 24, C = 199.0, M = 299.0, R = 199.0\n",
            "Index = 25, C = 100.61, M = 137.0, R = 100.61\n",
            "Index = 26, C = 123.28, M = 179.0, R = 123.28\n",
            "Index = 27, C = 123.28, M = 179.0, R = 123.28\n",
            "Index = 28, C = 127.98, M = 179.0, R = 127.98\n",
            "Index = 29, C = 127.98, M = 179.0, R = 127.98\n",
            "Index = 30, C = 123.28, M = 179.0, R = 123.28\n",
            "Index = 31, C = 124.93, M = 179.0, R = 124.93\n",
            "Index = 32, C = 123.23, M = 123.23, R = 123.23\n",
            "Index = 33, C = 235.18, M = 339.0, R = 235.18\n",
            "Index = 34, C = 264.38, M = 339.0, R = 264.38\n",
            "Index = 35, C = 113.85, M = 162.0, R = 113.85\n",
            "Index = 36, C = 179.0, M = 247.0, R = 179.0\n",
            "Index = 37, C = 132.98, M = 204.0, R = 132.98\n",
            "Index = 38, C = 119.0, M = 119.0, R = 119.0\n",
            "Index = 39, C = 125.52, M = 125.52, R = 125.52\n",
            "Index = 40, C = 182.18, M = 244.0, R = 182.18\n",
            "Index = 41, C = 169.0, M = 244.0, R = 169.0\n",
            "Index = 42, C = 174.0, M = 244.0, R = 174.0\n",
            "Index = 43, C = 184.0, M = 244.0, R = 184.0\n",
            "Index = 44, C = 169.0, M = 239.0, R = 169.0\n",
            "Index = 45, C = 179.0, M = 239.0, R = 179.0\n",
            "Index = 46, C = 229.0, M = 299.0, R = 229.0\n",
            "Index = 47, C = 231.5, M = 299.0, R = 231.5\n",
            "Index = 48, C = 193.96, M = 193.96, R = 193.96\n",
            "Index = 49, C = 248.05, M = 349.0, R = 248.05\n",
            "Index = 50, C = 270.0, M = 349.0, R = 270.0\n",
            "Index = 51, C = 209.99, M = 315.0, R = 209.99\n",
            "Index = 52, C = 209.99, M = 315.0, R = 209.99\n",
            "Index = 53, C = 109.0, M = 129.0, R = 109.0\n",
            "Index = 54, C = 154.0, M = 209.0, R = 154.0\n",
            "Index = 55, C = 154.0, M = 209.0, R = 154.0\n",
            "Index = 56, C = 158.0, M = 178.0, R = 158.0\n",
            "Index = 57, C = 161.24, M = 178.0, R = 161.24\n",
            "Index = 58, C = 175.0, M = 224.0, R = 175.0\n",
            "Index = 59, C = 230.0, M = 309.0, R = 230.0\n",
            "Index = 60, C = 169.0, M = 259.0, R = 169.0\n",
            "Index = 61, C = 178.09, M = 249.0, R = 178.09\n",
            "Index = 62, C = 99.0, M = 144.0, R = 99.0\n",
            "Index = 63, C = 211.0, M = 359.0, R = 211.0\n",
            "Index = 64, C = 171.0, M = 259.0, R = 171.0\n",
            "Index = 65, C = 149.0, M = 224.0, R = 149.0\n",
            "Index = 66, C = 144.0, M = 224.0, R = 144.0\n",
            "Index = 67, C = 169.0, M = 259.0, R = 169.0\n",
            "Index = 68, C = 169.0, M = 259.0, R = 169.0\n",
            "Index = 69, C = 149.0, M = 224.0, R = 149.0\n",
            "Index = 70, C = 149.0, M = 224.0, R = 149.0\n",
            "Index = 71, C = 169.49, M = 229.99, R = 169.49\n",
            "Index = 72, C = 189.49, M = 239.49, R = 189.49\n",
            "Index = 73, C = 204.0, M = 239.49, R = 204.0\n",
            "Index = 74, C = 189.49, M = 239.49, R = 189.49\n",
            "Index = 75, C = 185.88, M = 264.0, R = 185.88\n",
            "Index = 76, C = 173.22, M = 264.0, R = 173.22\n",
            "Index = 77, C = 173.22, M = 282.0, R = 173.22\n",
            "Index = 78, C = 476.5, M = 579.0, R = 476.5\n",
            "Index = 79, C = 222.16, M = 279.0, R = 222.16\n",
            "Index = 80, C = 222.16, M = 279.0, R = 222.16\n",
            "Index = 81, C = 579.0, M = 579.0, R = 579.0\n",
            "Index = 82, C = 295.0, M = 314.9, R = 295.0\n",
            "Index = 83, C = 220.71, M = 294.0, R = 220.71\n",
            "Index = 84, C = 177.86, M = 239.0, R = 177.86\n",
            "Index = 85, C = 148.95, M = 148.95, R = 148.95\n",
            "Index = 86, C = 151.05, M = 190.0, R = 151.05\n",
            "Index = 87, C = 306.87, M = 306.87, R = 306.87\n",
            "Index = 88, C = 292.37, M = 292.37, R = 292.37\n",
            "Index = 89, C = 229.64, M = 229.64, R = 229.64\n",
            "Index = 90, C = 150.09, M = 150.09, R = 150.09\n",
            "Index = 91, C = 136.14, M = 184.0, R = 136.14\n",
            "Index = 92, C = 139.0, M = 199.0, R = 139.0\n",
            "Index = 93, C = 109.73, M = 109.73, R = 109.73\n",
            "Index = 94, C = 143.19, M = 143.19, R = 143.19\n",
            "Index = 95, C = 136.28, M = 136.28, R = 136.28\n",
            "Index = 96, C = 146.9, M = 146.9, R = 146.9\n",
            "Index = 97, C = 235.0, M = 367.0, R = 235.0\n",
            "Index = 98, C = 235.44, M = 367.0, R = 235.44\n",
            "Index = 99, C = 179.0, M = 240.0, R = 179.0\n",
            "Total Objective Value: -1176192.370000001\n"
          ]
        }
      ]
    },
    {
      "cell_type": "code",
      "source": [
        "#Check variables\n",
        "def check(index, samples, r):\n",
        "  condition1 = samples[index][\"M\"] >= samples[index][\"C\"]\n",
        "  condition2 = samples[index][\"C\"] <= r <= samples[index][\"M\"]\n",
        "\n",
        "  return condition1 and condition2"
      ],
      "metadata": {
        "id": "YU8DZ8bfKFGQ"
      },
      "execution_count": 6,
      "outputs": []
    },
    {
      "cell_type": "code",
      "source": [
        "Results = [R[sample].varValue for sample in samples]\n",
        "problems = []\n",
        "for i, result in enumerate(Results):\n",
        "  if not check(i,samples,result):\n",
        "    print(i)\n",
        "    problems.append(i)"
      ],
      "metadata": {
        "colab": {
          "base_uri": "https://localhost:8080/"
        },
        "id": "OYq-aVKXLBiF",
        "outputId": "a83aa8fb-6afa-45bb-ad76-ba9c1cb0957a"
      },
      "execution_count": 7,
      "outputs": [
        {
          "output_type": "stream",
          "name": "stdout",
          "text": [
            "15\n"
          ]
        }
      ]
    },
    {
      "cell_type": "code",
      "source": [
        "for i in problems:\n",
        "  print(\"Index = {}, C = {}, M = {}, R = {}\".format(i, samples[i]['C'], samples[i]['M'], Results[i]))"
      ],
      "metadata": {
        "colab": {
          "base_uri": "https://localhost:8080/"
        },
        "id": "m-auFDoXY5f2",
        "outputId": "1acddedc-ab26-4733-822f-c2839b0578a7"
      },
      "execution_count": 9,
      "outputs": [
        {
          "output_type": "stream",
          "name": "stdout",
          "text": [
            "Index = 15, C = 166.99, M = 219.99, R = -17388.12\n"
          ]
        }
      ]
    },
    {
      "cell_type": "code",
      "source": [
        "def objective(data, r, problems):\n",
        "    with_problems = 0\n",
        "    without_problems = 0\n",
        "    for index, row in data.iterrows():\n",
        "        with_problems += (r[index] - row[\"C\"]) * row['n']\n",
        "        if i not in problems:\n",
        "            without_problems += (r[index] - row[\"C\"]) * row['n']\n",
        "\n",
        "    return with_problems,without_problems"
      ],
      "metadata": {
        "id": "WeQxdIXJe2zH"
      },
      "execution_count": 10,
      "outputs": []
    },
    {
      "cell_type": "code",
      "source": [
        "objective(data,Results,problems)"
      ],
      "metadata": {
        "colab": {
          "base_uri": "https://localhost:8080/"
        },
        "id": "tiIG9ncphrcy",
        "outputId": "35fd7384-4859-4f40-b317-fd74ba41f482"
      },
      "execution_count": 12,
      "outputs": [
        {
          "output_type": "execute_result",
          "data": {
            "text/plain": [
              "(-1176192.37, 0)"
            ]
          },
          "metadata": {},
          "execution_count": 12
        }
      ]
    },
    {
      "cell_type": "code",
      "source": [],
      "metadata": {
        "id": "jFFuOPMJ73SV"
      },
      "execution_count": null,
      "outputs": []
    }
  ]
}